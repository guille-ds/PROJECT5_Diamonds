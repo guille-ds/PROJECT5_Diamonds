{
 "cells": [
  {
   "cell_type": "code",
   "execution_count": 2,
   "metadata": {},
   "outputs": [],
   "source": [
    "import pandas as pd\n",
    "import numpy as np\n",
    "from sklearn.ensemble import RandomForestRegressor\n",
    "from sklearn.feature_selection import RFECV\n",
    "from sklearn.metrics import *\n",
    "from sklearn.model_selection import train_test_split"
   ]
  },
  {
   "cell_type": "code",
   "execution_count": 50,
   "metadata": {},
   "outputs": [],
   "source": [
    "a = pd.read_csv('d.csv')"
   ]
  },
  {
   "cell_type": "code",
   "execution_count": 61,
   "metadata": {},
   "outputs": [],
   "source": [
    "cols = a.columns[1:]\n",
    "d_train_Clean = a[cols]"
   ]
  },
  {
   "cell_type": "code",
   "execution_count": 62,
   "metadata": {},
   "outputs": [
    {
     "data": {
      "text/html": [
       "<div>\n",
       "<style scoped>\n",
       "    .dataframe tbody tr th:only-of-type {\n",
       "        vertical-align: middle;\n",
       "    }\n",
       "\n",
       "    .dataframe tbody tr th {\n",
       "        vertical-align: top;\n",
       "    }\n",
       "\n",
       "    .dataframe thead th {\n",
       "        text-align: right;\n",
       "    }\n",
       "</style>\n",
       "<table border=\"1\" class=\"dataframe\">\n",
       "  <thead>\n",
       "    <tr style=\"text-align: right;\">\n",
       "      <th></th>\n",
       "      <th>id</th>\n",
       "      <th>carat</th>\n",
       "      <th>cut</th>\n",
       "      <th>color</th>\n",
       "      <th>clarity</th>\n",
       "      <th>depth</th>\n",
       "      <th>table</th>\n",
       "      <th>x</th>\n",
       "      <th>y</th>\n",
       "      <th>z</th>\n",
       "      <th>price</th>\n",
       "    </tr>\n",
       "  </thead>\n",
       "  <tbody>\n",
       "    <tr>\n",
       "      <th>0</th>\n",
       "      <td>0</td>\n",
       "      <td>0.78</td>\n",
       "      <td>5</td>\n",
       "      <td>5</td>\n",
       "      <td>5</td>\n",
       "      <td>61.5</td>\n",
       "      <td>58.0</td>\n",
       "      <td>5.93</td>\n",
       "      <td>5.98</td>\n",
       "      <td>3.66</td>\n",
       "      <td>3446</td>\n",
       "    </tr>\n",
       "    <tr>\n",
       "      <th>1</th>\n",
       "      <td>1</td>\n",
       "      <td>0.31</td>\n",
       "      <td>4</td>\n",
       "      <td>7</td>\n",
       "      <td>3</td>\n",
       "      <td>60.8</td>\n",
       "      <td>56.0</td>\n",
       "      <td>4.37</td>\n",
       "      <td>4.32</td>\n",
       "      <td>2.64</td>\n",
       "      <td>732</td>\n",
       "    </tr>\n",
       "    <tr>\n",
       "      <th>2</th>\n",
       "      <td>2</td>\n",
       "      <td>0.30</td>\n",
       "      <td>4</td>\n",
       "      <td>5</td>\n",
       "      <td>3</td>\n",
       "      <td>62.3</td>\n",
       "      <td>54.0</td>\n",
       "      <td>4.30</td>\n",
       "      <td>4.34</td>\n",
       "      <td>2.69</td>\n",
       "      <td>475</td>\n",
       "    </tr>\n",
       "    <tr>\n",
       "      <th>3</th>\n",
       "      <td>3</td>\n",
       "      <td>1.04</td>\n",
       "      <td>4</td>\n",
       "      <td>6</td>\n",
       "      <td>6</td>\n",
       "      <td>62.0</td>\n",
       "      <td>58.0</td>\n",
       "      <td>6.54</td>\n",
       "      <td>6.46</td>\n",
       "      <td>4.03</td>\n",
       "      <td>9552</td>\n",
       "    </tr>\n",
       "    <tr>\n",
       "      <th>4</th>\n",
       "      <td>4</td>\n",
       "      <td>0.65</td>\n",
       "      <td>4</td>\n",
       "      <td>1</td>\n",
       "      <td>3</td>\n",
       "      <td>61.4</td>\n",
       "      <td>55.0</td>\n",
       "      <td>5.58</td>\n",
       "      <td>5.62</td>\n",
       "      <td>3.44</td>\n",
       "      <td>1276</td>\n",
       "    </tr>\n",
       "    <tr>\n",
       "      <th>...</th>\n",
       "      <td>...</td>\n",
       "      <td>...</td>\n",
       "      <td>...</td>\n",
       "      <td>...</td>\n",
       "      <td>...</td>\n",
       "      <td>...</td>\n",
       "      <td>...</td>\n",
       "      <td>...</td>\n",
       "      <td>...</td>\n",
       "      <td>...</td>\n",
       "      <td>...</td>\n",
       "    </tr>\n",
       "    <tr>\n",
       "      <th>40340</th>\n",
       "      <td>40340</td>\n",
       "      <td>0.50</td>\n",
       "      <td>4</td>\n",
       "      <td>6</td>\n",
       "      <td>5</td>\n",
       "      <td>61.9</td>\n",
       "      <td>56.0</td>\n",
       "      <td>5.09</td>\n",
       "      <td>5.12</td>\n",
       "      <td>3.16</td>\n",
       "      <td>1716</td>\n",
       "    </tr>\n",
       "    <tr>\n",
       "      <th>40341</th>\n",
       "      <td>40341</td>\n",
       "      <td>0.33</td>\n",
       "      <td>4</td>\n",
       "      <td>7</td>\n",
       "      <td>4</td>\n",
       "      <td>61.8</td>\n",
       "      <td>56.0</td>\n",
       "      <td>4.40</td>\n",
       "      <td>4.44</td>\n",
       "      <td>2.73</td>\n",
       "      <td>781</td>\n",
       "    </tr>\n",
       "    <tr>\n",
       "      <th>40342</th>\n",
       "      <td>40342</td>\n",
       "      <td>0.40</td>\n",
       "      <td>5</td>\n",
       "      <td>4</td>\n",
       "      <td>7</td>\n",
       "      <td>61.5</td>\n",
       "      <td>58.0</td>\n",
       "      <td>4.69</td>\n",
       "      <td>4.74</td>\n",
       "      <td>2.90</td>\n",
       "      <td>1123</td>\n",
       "    </tr>\n",
       "    <tr>\n",
       "      <th>40343</th>\n",
       "      <td>40343</td>\n",
       "      <td>1.06</td>\n",
       "      <td>4</td>\n",
       "      <td>2</td>\n",
       "      <td>5</td>\n",
       "      <td>61.2</td>\n",
       "      <td>57.0</td>\n",
       "      <td>6.59</td>\n",
       "      <td>6.56</td>\n",
       "      <td>4.03</td>\n",
       "      <td>5651</td>\n",
       "    </tr>\n",
       "    <tr>\n",
       "      <th>40344</th>\n",
       "      <td>40344</td>\n",
       "      <td>1.01</td>\n",
       "      <td>3</td>\n",
       "      <td>3</td>\n",
       "      <td>2</td>\n",
       "      <td>63.4</td>\n",
       "      <td>55.0</td>\n",
       "      <td>6.35</td>\n",
       "      <td>6.29</td>\n",
       "      <td>4.01</td>\n",
       "      <td>3959</td>\n",
       "    </tr>\n",
       "  </tbody>\n",
       "</table>\n",
       "<p>40345 rows × 11 columns</p>\n",
       "</div>"
      ],
      "text/plain": [
       "          id  carat  cut  color  clarity  depth  table     x     y     z  \\\n",
       "0          0   0.78    5      5        5   61.5   58.0  5.93  5.98  3.66   \n",
       "1          1   0.31    4      7        3   60.8   56.0  4.37  4.32  2.64   \n",
       "2          2   0.30    4      5        3   62.3   54.0  4.30  4.34  2.69   \n",
       "3          3   1.04    4      6        6   62.0   58.0  6.54  6.46  4.03   \n",
       "4          4   0.65    4      1        3   61.4   55.0  5.58  5.62  3.44   \n",
       "...      ...    ...  ...    ...      ...    ...    ...   ...   ...   ...   \n",
       "40340  40340   0.50    4      6        5   61.9   56.0  5.09  5.12  3.16   \n",
       "40341  40341   0.33    4      7        4   61.8   56.0  4.40  4.44  2.73   \n",
       "40342  40342   0.40    5      4        7   61.5   58.0  4.69  4.74  2.90   \n",
       "40343  40343   1.06    4      2        5   61.2   57.0  6.59  6.56  4.03   \n",
       "40344  40344   1.01    3      3        2   63.4   55.0  6.35  6.29  4.01   \n",
       "\n",
       "       price  \n",
       "0       3446  \n",
       "1        732  \n",
       "2        475  \n",
       "3       9552  \n",
       "4       1276  \n",
       "...      ...  \n",
       "40340   1716  \n",
       "40341    781  \n",
       "40342   1123  \n",
       "40343   5651  \n",
       "40344   3959  \n",
       "\n",
       "[40345 rows x 11 columns]"
      ]
     },
     "execution_count": 62,
     "metadata": {},
     "output_type": "execute_result"
    }
   ],
   "source": [
    "# El dataset TRAIN con valores numéricos:\n",
    "d_train_Clean"
   ]
  },
  {
   "cell_type": "code",
   "execution_count": null,
   "metadata": {},
   "outputs": [],
   "source": [
    "# Normalizo el dataset:"
   ]
  },
  {
   "cell_type": "code",
   "execution_count": null,
   "metadata": {},
   "outputs": [],
   "source": []
  },
  {
   "cell_type": "code",
   "execution_count": 68,
   "metadata": {},
   "outputs": [],
   "source": [
    "# Random Forest Regressor:\n",
    "rf_reg = RandomForestRegressor(n_estimators=240, max_depth=3, min_samples_leaf=3, random_state=111)\n",
    "selector = RFECV(rf_reg, step=1, cv=5)"
   ]
  },
  {
   "cell_type": "code",
   "execution_count": 69,
   "metadata": {},
   "outputs": [
    {
     "data": {
      "text/plain": [
       "['carat', 'cut', 'color', 'clarity', 'depth', 'table']"
      ]
     },
     "execution_count": 69,
     "metadata": {},
     "output_type": "execute_result"
    }
   ],
   "source": [
    "# No uso columnas x, y, z:\n",
    "Xcols = list(d_train_Clean.columns[1:7])\n",
    "Xcols"
   ]
  },
  {
   "cell_type": "code",
   "execution_count": 70,
   "metadata": {},
   "outputs": [],
   "source": [
    "# Declaro X, y:\n",
    "X = d_train_Clean[Xcols]\n",
    "y = d_train_Clean['price']"
   ]
  },
  {
   "cell_type": "code",
   "execution_count": 273,
   "metadata": {},
   "outputs": [
    {
     "name": "stdout",
     "output_type": "stream",
     "text": [
      "Processed 1 / 20\n",
      "Processed 2 / 20\n",
      "Processed 3 / 20\n",
      "Processed 4 / 20\n",
      "Processed 5 / 20\n",
      "Processed 6 / 20\n",
      "Processed 7 / 20\n",
      "Processed 8 / 20\n",
      "Processed 9 / 20\n",
      "Processed 10 / 20\n",
      "Processed 11 / 20\n",
      "Processed 12 / 20\n",
      "Processed 13 / 20\n",
      "Processed 14 / 20\n",
      "Processed 15 / 20\n",
      "Processed 16 / 20\n",
      "Processed 17 / 20\n",
      "Processed 18 / 20\n",
      "Processed 19 / 20\n",
      "Processed 20 / 20\n"
     ]
    }
   ],
   "source": [
    "# Split de dataset al 80%-20%:\n",
    "result={}\n",
    "\n",
    "# Random Forest Regressor con n_estimators optimizado en 240:\n",
    "rf_reg = RandomForestRegressor(n_estimators=240, max_depth=14, min_samples_leaf=3, random_state=111)\n",
    "selector = RFECV(rf_reg, step=1, cv=5)\n",
    "\n",
    "rango = [round(e,2) for e in np.arange (0.1, 0.3, 0.01)]\n",
    "for i, e in enumerate(rango):\n",
    "    # Split:\n",
    "    X_train, X_test, y_train, y_test = train_test_split(X, y, test_size=e, random_state=17)\n",
    "    \n",
    "    # Entreno el modelo:\n",
    "    model = rf_reg.fit(X_train, y_train)\n",
    "    \n",
    "    # Resultados del dataset TRAIN:\n",
    "    train_score = (rf_reg.score(X_train, y_train))\n",
    "    test_score = (rf_reg.score(X_test, y_test))\n",
    "    rmse = np.sqrt(mean_squared_error(y_test, rf_reg.predict(X_test)))\n",
    "    \n",
    "    result[e]={'train_score':train_score,\n",
    "              'test_score':test_score,\n",
    "              'rmse':rmse}\n",
    "    \n",
    "    print (f'Processed {i+1} / {len(rango)}')"
   ]
  },
  {
   "cell_type": "code",
   "execution_count": 171,
   "metadata": {},
   "outputs": [
    {
     "data": {
      "text/plain": [
       "array([0.1 , 0.11, 0.12, 0.13, 0.14, 0.15, 0.16, 0.17, 0.18, 0.19, 0.2 ,\n",
       "       0.21, 0.22, 0.23, 0.24, 0.25, 0.26, 0.27, 0.28, 0.29])"
      ]
     },
     "execution_count": 171,
     "metadata": {},
     "output_type": "execute_result"
    }
   ],
   "source": [
    "np.arange (0.1, 0.3, 0.01)"
   ]
  },
  {
   "cell_type": "code",
   "execution_count": 274,
   "metadata": {},
   "outputs": [
    {
     "name": "stdout",
     "output_type": "stream",
     "text": [
      "{0.1: {'train_score': 0.990056740937768, 'test_score': 0.9821585854060576, 'rmse': 538.0362578878711}, 0.11: {'train_score': 0.9900605248942121, 'test_score': 0.9822601054816338, 'rmse': 534.8312293511848}, 0.12: {'train_score': 0.990070057127669, 'test_score': 0.9817455104755632, 'rmse': 541.8646081556699}, 0.13: {'train_score': 0.9900660371664036, 'test_score': 0.9820002204786424, 'rmse': 537.9872743784795}, 0.14: {'train_score': 0.9900829298770003, 'test_score': 0.9818496647241562, 'rmse': 535.5253567543932}, 0.15: {'train_score': 0.9901426501022376, 'test_score': 0.9814285353120094, 'rmse': 538.6970445637747}, 0.16: {'train_score': 0.990177576658885, 'test_score': 0.9807441502103944, 'rmse': 549.8831391151139}, 0.17: {'train_score': 0.9901786284079849, 'test_score': 0.980890122213356, 'rmse': 547.7318845189702}, 0.18: {'train_score': 0.9901841183001708, 'test_score': 0.9808553596546296, 'rmse': 550.4743593576196}, 0.19: {'train_score': 0.9900990516949295, 'test_score': 0.9811700123875923, 'rmse': 546.3088952357747}, 0.2: {'train_score': 0.990192315889721, 'test_score': 0.98083925069434, 'rmse': 550.8764411560356}, 0.21: {'train_score': 0.9901704997898173, 'test_score': 0.9810294012690953, 'rmse': 548.4301216752556}, 0.22: {'train_score': 0.9901698920048693, 'test_score': 0.9812187986637037, 'rmse': 547.8182912994254}, 0.23: {'train_score': 0.990143426003545, 'test_score': 0.981097884244885, 'rmse': 552.5545154538701}, 0.24: {'train_score': 0.9901512840292123, 'test_score': 0.981209700336479, 'rmse': 550.0268567634945}, 0.25: {'train_score': 0.9901491327291649, 'test_score': 0.9811954577217091, 'rmse': 548.5571550690129}, 0.26: {'train_score': 0.9901471052033082, 'test_score': 0.9813747809242042, 'rmse': 546.6205471389449}, 0.27: {'train_score': 0.9901580056620252, 'test_score': 0.9812363840926179, 'rmse': 547.1032607764917}, 0.28: {'train_score': 0.9901325267493348, 'test_score': 0.9814796524284736, 'rmse': 544.257399826104}, 0.29: {'train_score': 0.9901005500884917, 'test_score': 0.981460409505208, 'rmse': 544.8422407510315}}\n"
     ]
    }
   ],
   "source": [
    "print(result)"
   ]
  },
  {
   "cell_type": "code",
   "execution_count": 275,
   "metadata": {},
   "outputs": [],
   "source": [
    "tabla = pd.DataFrame(result)"
   ]
  },
  {
   "cell_type": "code",
   "execution_count": 276,
   "metadata": {},
   "outputs": [
    {
     "name": "stdout",
     "output_type": "stream",
     "text": [
      "      train_score  test_score        rmse\n",
      "0.11     0.990061     0.98226  534.831229\n"
     ]
    }
   ],
   "source": [
    "tab = tabla.T\n",
    "print(tab[tab.rmse==min(tab.rmse)])"
   ]
  },
  {
   "cell_type": "code",
   "execution_count": 222,
   "metadata": {},
   "outputs": [],
   "source": [
    "import matplotlib.pyplot as plt"
   ]
  },
  {
   "cell_type": "code",
   "execution_count": 223,
   "metadata": {},
   "outputs": [
    {
     "data": {
      "text/plain": [
       "<matplotlib.axes._subplots.AxesSubplot at 0x7f082d07dc50>"
      ]
     },
     "execution_count": 223,
     "metadata": {},
     "output_type": "execute_result"
    },
    {
     "data": {
      "image/png": "[encoded data removed]",
      "text/plain": [
       "<Figure size 1800x360 with 1 Axes>"
      ]
     },
     "metadata": {
      "needs_background": "light"
     },
     "output_type": "display_data"
    }
   ],
   "source": [
    "tab.rmse.plot(figsize=(25,5))"
   ]
  },
  {
   "cell_type": "code",
   "execution_count": 277,
   "metadata": {},
   "outputs": [],
   "source": [
    "# Split:\n",
    "X_train, X_test, y_train, y_test = train_test_split(X, y, test_size=0.11, random_state=17)\n",
    "\n",
    "# Entreno el modelo:\n",
    "model = rf_reg.fit(X_train, y_train)\n",
    "\n",
    "# Resultados del dataset TRAIN:\n",
    "train_score = (rf_reg.score(X_train, y_train))\n",
    "test_score = (rf_reg.score(X_test, y_test))\n",
    "rmse = np.sqrt(mean_squared_error(y_test, rf_reg.predict(X_test)))\n",
    "\n",
    "resultDef={'train_score':train_score,\n",
    "          'test_score':test_score,\n",
    "          'rmse':rmse}"
   ]
  },
  {
   "cell_type": "code",
   "execution_count": 278,
   "metadata": {},
   "outputs": [
    {
     "data": {
      "text/plain": [
       "{'train_score': 0.9900605248942121,\n",
       " 'test_score': 0.9822601054816338,\n",
       " 'rmse': 534.8312293511848}"
      ]
     },
     "execution_count": 278,
     "metadata": {},
     "output_type": "execute_result"
    }
   ],
   "source": [
    "resultDef"
   ]
  },
  {
   "cell_type": "code",
   "execution_count": 279,
   "metadata": {},
   "outputs": [
    {
     "name": "stdout",
     "output_type": "stream",
     "text": [
      "0.9900605248942121\n",
      "0.9822601054816338\n",
      "RMSE 534.8312293511848\n"
     ]
    }
   ],
   "source": [
    "# Resultados del dataset TRAIN:\n",
    "print(rf_reg.score(X_train, y_train))\n",
    "print(rf_reg.score(X_test, y_test))\n",
    "print('RMSE', np.sqrt(mean_squared_error(y_test, rf_reg.predict(X_test))))"
   ]
  },
  {
   "cell_type": "code",
   "execution_count": null,
   "metadata": {},
   "outputs": [],
   "source": [
    "# Lo aplico a diamonds_test.csv:"
   ]
  },
  {
   "cell_type": "code",
   "execution_count": 281,
   "metadata": {},
   "outputs": [],
   "source": [
    "df = pd.read_csv('diamonds_test.csv')\n",
    "df.cut = df.cut.map(cuts)\n",
    "df.color = df.color.map(colors)\n",
    "df.clarity = df.clarity.map(clar)"
   ]
  },
  {
   "cell_type": "code",
   "execution_count": 282,
   "metadata": {},
   "outputs": [
    {
     "data": {
      "text/html": [
       "<div>\n",
       "<style scoped>\n",
       "    .dataframe tbody tr th:only-of-type {\n",
       "        vertical-align: middle;\n",
       "    }\n",
       "\n",
       "    .dataframe tbody tr th {\n",
       "        vertical-align: top;\n",
       "    }\n",
       "\n",
       "    .dataframe thead th {\n",
       "        text-align: right;\n",
       "    }\n",
       "</style>\n",
       "<table border=\"1\" class=\"dataframe\">\n",
       "  <thead>\n",
       "    <tr style=\"text-align: right;\">\n",
       "      <th></th>\n",
       "      <th>id</th>\n",
       "      <th>carat</th>\n",
       "      <th>cut</th>\n",
       "      <th>color</th>\n",
       "      <th>clarity</th>\n",
       "      <th>depth</th>\n",
       "      <th>table</th>\n",
       "      <th>x</th>\n",
       "      <th>y</th>\n",
       "      <th>z</th>\n",
       "    </tr>\n",
       "  </thead>\n",
       "  <tbody>\n",
       "    <tr>\n",
       "      <th>0</th>\n",
       "      <td>0</td>\n",
       "      <td>1.10</td>\n",
       "      <td>5</td>\n",
       "      <td>3</td>\n",
       "      <td>2</td>\n",
       "      <td>62.2</td>\n",
       "      <td>58.0</td>\n",
       "      <td>6.69</td>\n",
       "      <td>6.60</td>\n",
       "      <td>4.13</td>\n",
       "    </tr>\n",
       "    <tr>\n",
       "      <th>1</th>\n",
       "      <td>1</td>\n",
       "      <td>0.51</td>\n",
       "      <td>4</td>\n",
       "      <td>2</td>\n",
       "      <td>3</td>\n",
       "      <td>62.5</td>\n",
       "      <td>57.0</td>\n",
       "      <td>5.07</td>\n",
       "      <td>5.10</td>\n",
       "      <td>3.18</td>\n",
       "    </tr>\n",
       "    <tr>\n",
       "      <th>2</th>\n",
       "      <td>2</td>\n",
       "      <td>2.03</td>\n",
       "      <td>5</td>\n",
       "      <td>4</td>\n",
       "      <td>3</td>\n",
       "      <td>61.9</td>\n",
       "      <td>59.0</td>\n",
       "      <td>8.14</td>\n",
       "      <td>8.09</td>\n",
       "      <td>5.02</td>\n",
       "    </tr>\n",
       "    <tr>\n",
       "      <th>3</th>\n",
       "      <td>3</td>\n",
       "      <td>1.21</td>\n",
       "      <td>5</td>\n",
       "      <td>5</td>\n",
       "      <td>3</td>\n",
       "      <td>60.0</td>\n",
       "      <td>60.0</td>\n",
       "      <td>6.96</td>\n",
       "      <td>6.91</td>\n",
       "      <td>4.16</td>\n",
       "    </tr>\n",
       "    <tr>\n",
       "      <th>4</th>\n",
       "      <td>4</td>\n",
       "      <td>0.55</td>\n",
       "      <td>4</td>\n",
       "      <td>5</td>\n",
       "      <td>3</td>\n",
       "      <td>61.8</td>\n",
       "      <td>55.0</td>\n",
       "      <td>5.27</td>\n",
       "      <td>5.22</td>\n",
       "      <td>3.24</td>\n",
       "    </tr>\n",
       "    <tr>\n",
       "      <th>...</th>\n",
       "      <td>...</td>\n",
       "      <td>...</td>\n",
       "      <td>...</td>\n",
       "      <td>...</td>\n",
       "      <td>...</td>\n",
       "      <td>...</td>\n",
       "      <td>...</td>\n",
       "      <td>...</td>\n",
       "      <td>...</td>\n",
       "      <td>...</td>\n",
       "    </tr>\n",
       "    <tr>\n",
       "      <th>13444</th>\n",
       "      <td>13444</td>\n",
       "      <td>0.30</td>\n",
       "      <td>5</td>\n",
       "      <td>6</td>\n",
       "      <td>4</td>\n",
       "      <td>60.0</td>\n",
       "      <td>58.0</td>\n",
       "      <td>4.37</td>\n",
       "      <td>4.40</td>\n",
       "      <td>2.63</td>\n",
       "    </tr>\n",
       "    <tr>\n",
       "      <th>13445</th>\n",
       "      <td>13445</td>\n",
       "      <td>0.55</td>\n",
       "      <td>4</td>\n",
       "      <td>7</td>\n",
       "      <td>6</td>\n",
       "      <td>60.8</td>\n",
       "      <td>56.0</td>\n",
       "      <td>5.31</td>\n",
       "      <td>5.34</td>\n",
       "      <td>3.24</td>\n",
       "    </tr>\n",
       "    <tr>\n",
       "      <th>13446</th>\n",
       "      <td>13446</td>\n",
       "      <td>0.23</td>\n",
       "      <td>3</td>\n",
       "      <td>6</td>\n",
       "      <td>7</td>\n",
       "      <td>61.3</td>\n",
       "      <td>58.0</td>\n",
       "      <td>3.94</td>\n",
       "      <td>3.96</td>\n",
       "      <td>2.42</td>\n",
       "    </tr>\n",
       "    <tr>\n",
       "      <th>13447</th>\n",
       "      <td>13447</td>\n",
       "      <td>0.30</td>\n",
       "      <td>4</td>\n",
       "      <td>7</td>\n",
       "      <td>4</td>\n",
       "      <td>61.4</td>\n",
       "      <td>58.0</td>\n",
       "      <td>4.29</td>\n",
       "      <td>4.31</td>\n",
       "      <td>2.64</td>\n",
       "    </tr>\n",
       "    <tr>\n",
       "      <th>13448</th>\n",
       "      <td>13448</td>\n",
       "      <td>0.54</td>\n",
       "      <td>4</td>\n",
       "      <td>7</td>\n",
       "      <td>5</td>\n",
       "      <td>61.4</td>\n",
       "      <td>53.0</td>\n",
       "      <td>5.28</td>\n",
       "      <td>5.30</td>\n",
       "      <td>3.25</td>\n",
       "    </tr>\n",
       "  </tbody>\n",
       "</table>\n",
       "<p>13449 rows × 10 columns</p>\n",
       "</div>"
      ],
      "text/plain": [
       "          id  carat  cut  color  clarity  depth  table     x     y     z\n",
       "0          0   1.10    5      3        2   62.2   58.0  6.69  6.60  4.13\n",
       "1          1   0.51    4      2        3   62.5   57.0  5.07  5.10  3.18\n",
       "2          2   2.03    5      4        3   61.9   59.0  8.14  8.09  5.02\n",
       "3          3   1.21    5      5        3   60.0   60.0  6.96  6.91  4.16\n",
       "4          4   0.55    4      5        3   61.8   55.0  5.27  5.22  3.24\n",
       "...      ...    ...  ...    ...      ...    ...    ...   ...   ...   ...\n",
       "13444  13444   0.30    5      6        4   60.0   58.0  4.37  4.40  2.63\n",
       "13445  13445   0.55    4      7        6   60.8   56.0  5.31  5.34  3.24\n",
       "13446  13446   0.23    3      6        7   61.3   58.0  3.94  3.96  2.42\n",
       "13447  13447   0.30    4      7        4   61.4   58.0  4.29  4.31  2.64\n",
       "13448  13448   0.54    4      7        5   61.4   53.0  5.28  5.30  3.25\n",
       "\n",
       "[13449 rows x 10 columns]"
      ]
     },
     "execution_count": 282,
     "metadata": {},
     "output_type": "execute_result"
    }
   ],
   "source": [
    "df"
   ]
  },
  {
   "cell_type": "code",
   "execution_count": 283,
   "metadata": {},
   "outputs": [],
   "source": [
    "X_test = df[Xcols]"
   ]
  },
  {
   "cell_type": "code",
   "execution_count": 284,
   "metadata": {},
   "outputs": [],
   "source": [
    "# Predicción de precio con los datos de diamonds_test.csv:\n",
    "y_test_pred = model.predict(X_test)\n",
    "y_test_pred\n",
    "\n",
    "# Lo incluyo en el dataframe:\n",
    "df['price']=y_test_pred\n",
    "\n",
    "# Preparo df con las 2 columnas que quiero subir (id, price):\n",
    "sub = df[['id', 'price']]"
   ]
  },
  {
   "cell_type": "code",
   "execution_count": 285,
   "metadata": {},
   "outputs": [],
   "source": [
    "# Exporto archivo .csv:\n",
    "sub.to_csv(\"sub6.csv\", index=False)"
   ]
  }
 ],
 "metadata": {
  "kernelspec": {
   "display_name": "Python 3",
   "language": "python",
   "name": "python3"
  },
  "language_info": {
   "codemirror_mode": {
    "name": "ipython",
    "version": 3
   },
   "file_extension": ".py",
   "mimetype": "text/x-python",
   "name": "python",
   "nbconvert_exporter": "python",
   "pygments_lexer": "ipython3",
   "version": "3.7.5"
  }
 },
 "nbformat": 4,
 "nbformat_minor": 4
}
