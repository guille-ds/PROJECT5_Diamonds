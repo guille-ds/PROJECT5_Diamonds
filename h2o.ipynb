{
 "cells": [
  {
   "cell_type": "code",
   "execution_count": 1,
   "metadata": {},
   "outputs": [],
   "source": [
    "import h2o\n",
    "from h2o.estimators.gbm import H2OGradientBoostingEstimator"
   ]
  },
  {
   "cell_type": "code",
   "execution_count": null,
   "metadata": {},
   "outputs": [
    {
     "name": "stdout",
     "output_type": "stream",
     "text": [
      "Checking whether there is an H2O instance running at http://localhost:54321 ..... not found.\n",
      "Attempting to start a local H2O server...\n",
      "  Java Version: openjdk version \"1.8.0_242\"; OpenJDK Runtime Environment (build 1.8.0_242-8u242-b08-0ubuntu3~19.10-b08); OpenJDK 64-Bit Server VM (build 25.242-b08, mixed mode)\n",
      "  Starting server from /home/guille/.local/lib/python3.7/site-packages/h2o/backend/bin/h2o.jar\n",
      "  Ice root: /tmp/tmpwpu4amqg\n",
      "  JVM stdout: /tmp/tmpwpu4amqg/h2o_guille_started_from_python.out\n",
      "  JVM stderr: /tmp/tmpwpu4amqg/h2o_guille_started_from_python.err\n"
     ]
    }
   ],
   "source": [
    "h2o.init(strict_version_check =False)"
   ]
  },
  {
   "cell_type": "code",
   "execution_count": null,
   "metadata": {},
   "outputs": [],
   "source": [
    "d=h2o.import_file('d.csv')"
   ]
  },
  {
   "cell_type": "code",
   "execution_count": null,
   "metadata": {},
   "outputs": [],
   "source": [
    "d"
   ]
  },
  {
   "cell_type": "code",
   "execution_count": null,
   "metadata": {},
   "outputs": [],
   "source": [
    "col = d.columns[2:-4]\n",
    "col"
   ]
  },
  {
   "cell_type": "code",
   "execution_count": null,
   "metadata": {},
   "outputs": [],
   "source": [
    "'''\n",
    "train, valid= d.split_frame(ratios = [.8], seed = 3)\n",
    "\n",
    "# convert response column to a factor\n",
    "d[\"price\"] = d[\"price\"].asfactor()\n",
    "\n",
    "# set the predictor names and the response column name\n",
    "predictors = col\n",
    "response = \"price\"\n",
    "\n",
    "# split into train and validation sets\n",
    "train, valid = d.split_frame(ratios = [.8], seed = 3)\n",
    "\n",
    "# try using the `training_frame` parameter:\n",
    "# first initialize your estimator\n",
    "d_gbm = H2OGradientBoostingEstimator(seed = 3)\n",
    "\n",
    "# then train your model, where you specify your 'x' predictors, your 'y' the response column\n",
    "# training_frame and validation_frame\n",
    "d_gbm.train(x = predictors, y = response, training_frame = train, validation_frame = valid)\n",
    "\n",
    "# print the auc for the validation data\n",
    "d_gbm.auc(valid=True)\n",
    "'''"
   ]
  }
 ],
 "metadata": {
  "kernelspec": {
   "display_name": "Python 3",
   "language": "python",
   "name": "python3"
  },
  "language_info": {
   "codemirror_mode": {
    "name": "ipython",
    "version": 3
   },
   "file_extension": ".py",
   "mimetype": "text/x-python",
   "name": "python",
   "nbconvert_exporter": "python",
   "pygments_lexer": "ipython3",
   "version": "3.7.5"
  }
 },
 "nbformat": 4,
 "nbformat_minor": 4
}
